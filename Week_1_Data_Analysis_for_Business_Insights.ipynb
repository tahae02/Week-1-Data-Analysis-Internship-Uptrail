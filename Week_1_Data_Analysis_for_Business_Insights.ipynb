{
  "nbformat": 4,
  "nbformat_minor": 0,
  "metadata": {
    "colab": {
      "provenance": [],
      "authorship_tag": "ABX9TyNc7qb5a30DbUYKOmgbNBFL",
      "include_colab_link": true
    },
    "kernelspec": {
      "name": "python3",
      "display_name": "Python 3"
    },
    "language_info": {
      "name": "python"
    }
  },
  "cells": [
    {
      "cell_type": "markdown",
      "metadata": {
        "id": "view-in-github",
        "colab_type": "text"
      },
      "source": [
        "<a href=\"https://colab.research.google.com/github/tahae02/Week-1-Data-Analysis-Internship-Uptrail/blob/main/Week_1_Data_Analysis_for_Business_Insights.ipynb\" target=\"_parent\"><img src=\"https://colab.research.google.com/assets/colab-badge.svg\" alt=\"Open In Colab\"/></a>"
      ]
    },
    {
      "cell_type": "markdown",
      "source": [
        "#This is the notebook for the Week 1 project"
      ],
      "metadata": {
        "id": "Pp5R8_mL7m5t"
      }
    },
    {
      "cell_type": "code",
      "source": [],
      "metadata": {
        "id": "BnXFhtep70YF"
      },
      "execution_count": null,
      "outputs": []
    }
  ]
}